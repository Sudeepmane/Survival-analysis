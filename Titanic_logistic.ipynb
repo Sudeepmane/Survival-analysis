{
  "nbformat": 4,
  "nbformat_minor": 0,
  "metadata": {
    "colab": {
      "provenance": []
    },
    "kernelspec": {
      "name": "python3",
      "display_name": "Python 3"
    },
    "language_info": {
      "name": "python"
    }
  },
  "cells": [
    {
      "cell_type": "code",
      "execution_count": null,
      "metadata": {
        "id": "HQTJ3xbG-mo_"
      },
      "outputs": [],
      "source": [
        "from pyspark.sql import SparkSession"
      ]
    },
    {
      "cell_type": "code",
      "source": [
        "spark=SparkSession.builder.getOrCreate()"
      ],
      "metadata": {
        "id": "aaWJZQbf-z8k"
      },
      "execution_count": null,
      "outputs": []
    },
    {
      "cell_type": "code",
      "source": [
        "df=spark.read.csv(\"/content/titanic.csv\",header=True,inferSchema=True)"
      ],
      "metadata": {
        "id": "XhveWXUr_C6n"
      },
      "execution_count": null,
      "outputs": []
    },
    {
      "cell_type": "code",
      "source": [
        "df.printSchema()"
      ],
      "metadata": {
        "colab": {
          "base_uri": "https://localhost:8080/"
        },
        "id": "--ysrBce_yLH",
        "outputId": "e67d837f-b05c-48c7-c111-73c080b9ad28"
      },
      "execution_count": null,
      "outputs": [
        {
          "output_type": "stream",
          "name": "stdout",
          "text": [
            "root\n",
            " |-- PassengerId: integer (nullable = true)\n",
            " |-- Survived: integer (nullable = true)\n",
            " |-- Pclass: integer (nullable = true)\n",
            " |-- Sex: string (nullable = true)\n",
            " |-- SibSp: integer (nullable = true)\n",
            " |-- Parch: integer (nullable = true)\n",
            " |-- Embarked: string (nullable = true)\n",
            " |-- Title: string (nullable = true)\n",
            " |-- GrpSize: string (nullable = true)\n",
            " |-- FareCat: string (nullable = true)\n",
            " |-- AgeCat: string (nullable = true)\n",
            "\n"
          ]
        }
      ]
    },
    {
      "cell_type": "code",
      "source": [
        "df.show()"
      ],
      "metadata": {
        "colab": {
          "base_uri": "https://localhost:8080/"
        },
        "id": "s6Jj7YIJ_0yW",
        "outputId": "c81f6256-1749-4977-8df1-f4fa07d5b3c8"
      },
      "execution_count": null,
      "outputs": [
        {
          "output_type": "stream",
          "name": "stdout",
          "text": [
            "+-----------+--------+------+------+-----+-----+--------+------+-----------+-------+------+\n",
            "|PassengerId|Survived|Pclass|   Sex|SibSp|Parch|Embarked| Title|    GrpSize|FareCat|AgeCat|\n",
            "+-----------+--------+------+------+-----+-----+--------+------+-----------+-------+------+\n",
            "|          1|       0|     3|  male|    1|    0|       S|    Mr|     couple|   0-10| 16-32|\n",
            "|          2|       1|     1|female|    1|    0|       C|   Mrs|     couple| 70-100| 32-48|\n",
            "|          3|       1|     3|female|    0|    0|       S|  Miss|       solo|   0-10| 16-32|\n",
            "|          4|       1|     1|female|    1|    0|       S|   Mrs|     couple|  40-70| 32-48|\n",
            "|        138|       0|     1|  male|    1|    0|       S|    Mr|     couple|  40-70| 32-48|\n",
            "|          5|       0|     3|  male|    0|    0|       S|    Mr|       solo|   0-10| 32-48|\n",
            "|          6|       0|     3|  male|    0|    0|       Q|    Mr|       solo|   0-10| 16-32|\n",
            "|          7|       0|     1|  male|    0|    0|       S|    Mr|       solo|  40-70| 48-64|\n",
            "|          8|       0|     3|  male|    3|    1|       S|Master|large group|  10-25|  0-16|\n",
            "|         25|       0|     3|female|    3|    1|       S|  Miss|large group|  10-25|  0-16|\n",
            "|        375|       0|     3|female|    3|    1|       S|  Miss|large group|  10-25|  0-16|\n",
            "|        568|       0|     3|female|    0|    4|       S|   Mrs|large group|  10-25| 16-32|\n",
            "|          9|       1|     3|female|    0|    2|       S|   Mrs|      group|  10-25| 16-32|\n",
            "|        173|       1|     3|female|    1|    1|       S|  Miss|      group|  10-25|  0-16|\n",
            "|        870|       1|     3|  male|    1|    1|       S|Master|      group|  10-25|  0-16|\n",
            "|         10|       1|     2|female|    1|    0|       C|   Mrs|     couple|  25-40|  0-16|\n",
            "|        123|       0|     2|  male|    1|    0|       C|    Mr|     couple|  25-40| 32-48|\n",
            "|         11|       1|     3|female|    1|    1|       S|  Miss|      group|  10-25|  0-16|\n",
            "|        395|       1|     3|female|    0|    2|       S|   Mrs|      group|  10-25| 16-32|\n",
            "|         12|       1|     1|female|    0|    0|       S|  Miss|       solo|  25-40| 48-64|\n",
            "+-----------+--------+------+------+-----+-----+--------+------+-----------+-------+------+\n",
            "only showing top 20 rows\n",
            "\n"
          ]
        }
      ]
    },
    {
      "cell_type": "code",
      "source": [
        "# Count total rows\n",
        "print(f\"Total Rows: {df.count()}\")"
      ],
      "metadata": {
        "colab": {
          "base_uri": "https://localhost:8080/"
        },
        "id": "9REmWMoG_2ZD",
        "outputId": "1ba1ddde-87e8-41b1-81ce-a1d84f5bc040"
      },
      "execution_count": null,
      "outputs": [
        {
          "output_type": "stream",
          "name": "stdout",
          "text": [
            "Total Rows: 891\n"
          ]
        }
      ]
    },
    {
      "cell_type": "code",
      "source": [
        "# Check class balance\n",
        "df.groupBy(\"Survived\").count().show()"
      ],
      "metadata": {
        "colab": {
          "base_uri": "https://localhost:8080/"
        },
        "id": "TDg89bCnRC5e",
        "outputId": "3eda66cb-745e-4fec-d27c-39d62a73cf70"
      },
      "execution_count": null,
      "outputs": [
        {
          "output_type": "stream",
          "name": "stdout",
          "text": [
            "+--------+-----+\n",
            "|Survived|count|\n",
            "+--------+-----+\n",
            "|       1|  342|\n",
            "|       0|  549|\n",
            "+--------+-----+\n",
            "\n"
          ]
        }
      ]
    },
    {
      "cell_type": "code",
      "source": [
        "# Check distribution of categorical variables\n",
        "for col in ['Sex', 'Embarked', 'Title', 'GrpSize', 'FareCat', 'AgeCat']:\n",
        "    df.groupBy(col).count().orderBy(\"count\", ascending=False).show()"
      ],
      "metadata": {
        "colab": {
          "base_uri": "https://localhost:8080/"
        },
        "id": "hq1TlBuuRJpF",
        "outputId": "37c57d40-df10-4efd-f643-84baae5c2b48"
      },
      "execution_count": null,
      "outputs": [
        {
          "output_type": "stream",
          "name": "stdout",
          "text": [
            "+------+-----+\n",
            "|   Sex|count|\n",
            "+------+-----+\n",
            "|  male|  577|\n",
            "|female|  314|\n",
            "+------+-----+\n",
            "\n",
            "+--------+-----+\n",
            "|Embarked|count|\n",
            "+--------+-----+\n",
            "|       S|  646|\n",
            "|       C|  168|\n",
            "|       Q|   77|\n",
            "+--------+-----+\n",
            "\n",
            "+----------+-----+\n",
            "|     Title|count|\n",
            "+----------+-----+\n",
            "|        Mr|  517|\n",
            "|      Miss|  184|\n",
            "|       Mrs|  126|\n",
            "|    Master|   40|\n",
            "|Rare Title|   24|\n",
            "+----------+-----+\n",
            "\n",
            "+-----------+-----+\n",
            "|    GrpSize|count|\n",
            "+-----------+-----+\n",
            "|       solo|  462|\n",
            "|     couple|  185|\n",
            "|      group|  170|\n",
            "|large group|   74|\n",
            "+-----------+-----+\n",
            "\n",
            "+-------+-----+\n",
            "|FareCat|count|\n",
            "+-------+-----+\n",
            "|   0-10|  325|\n",
            "|  10-25|  227|\n",
            "|  25-40|  158|\n",
            "|  40-70|   76|\n",
            "|   100+|   53|\n",
            "| 70-100|   52|\n",
            "+-------+-----+\n",
            "\n",
            "+------+-----+\n",
            "|AgeCat|count|\n",
            "+------+-----+\n",
            "| 16-32|  490|\n",
            "| 32-48|  216|\n",
            "|  0-16|  104|\n",
            "| 48-64|   70|\n",
            "|   64+|   11|\n",
            "+------+-----+\n",
            "\n"
          ]
        }
      ]
    },
    {
      "cell_type": "code",
      "source": [
        "# Summary stats for numeric columns\n",
        "df.select(\"Pclass\", \"SibSp\", \"Parch\").describe().show()"
      ],
      "metadata": {
        "colab": {
          "base_uri": "https://localhost:8080/"
        },
        "id": "C-c-SFx_RfvB",
        "outputId": "bcb51230-0ce8-4b24-a868-188c4d46a746"
      },
      "execution_count": null,
      "outputs": [
        {
          "output_type": "stream",
          "name": "stdout",
          "text": [
            "+-------+------------------+------------------+-------------------+\n",
            "|summary|            Pclass|             SibSp|              Parch|\n",
            "+-------+------------------+------------------+-------------------+\n",
            "|  count|               891|               891|                891|\n",
            "|   mean| 2.308641975308642|0.5230078563411896|0.38159371492704824|\n",
            "| stddev|0.8360712409770492|1.1027434322934326| 0.8060572211299486|\n",
            "|    min|                 1|                 0|                  0|\n",
            "|    max|                 3|                 8|                  6|\n",
            "+-------+------------------+------------------+-------------------+\n",
            "\n"
          ]
        }
      ]
    },
    {
      "cell_type": "code",
      "source": [
        "# Correlation check (if numeric)\n",
        "for col in [\"Pclass\", \"SibSp\", \"Parch\"]:\n",
        "    corr = df.stat.corr(\"Survived\", col)\n",
        "    print(f\"Correlation between Survived and {col}: {corr}\")\n"
      ],
      "metadata": {
        "colab": {
          "base_uri": "https://localhost:8080/"
        },
        "id": "JWjAfdXfRh9R",
        "outputId": "2059981c-ab9e-42c2-f9d0-e4c7428bf451"
      },
      "execution_count": null,
      "outputs": [
        {
          "output_type": "stream",
          "name": "stdout",
          "text": [
            "Correlation between Survived and Pclass: -0.33848103596101514\n",
            "Correlation between Survived and SibSp: -0.03532249888573567\n",
            "Correlation between Survived and Parch: 0.08162940708348336\n"
          ]
        }
      ]
    },
    {
      "cell_type": "code",
      "source": [
        "from pyspark.ml.feature import StringIndexer,VectorAssembler,OneHotEncoder,VectorIndexer"
      ],
      "metadata": {
        "id": "5YXUuCVLSeim"
      },
      "execution_count": null,
      "outputs": []
    },
    {
      "cell_type": "code",
      "source": [
        "gender_indexer=StringIndexer(inputCol='Sex',outputCol='sex')\n",
        "gender_encoder=OneHotEncoder(inputCol='sex',outputCol='gender')"
      ],
      "metadata": {
        "id": "UA9cL-WtTFh5"
      },
      "execution_count": null,
      "outputs": []
    },
    {
      "cell_type": "code",
      "source": [
        "categorical_cols = ['Sex', 'Embarked', 'Title', 'GrpSize', 'FareCat', 'AgeCat']\n",
        "numeric_cols = ['Pclass', 'SibSp', 'Parch']"
      ],
      "metadata": {
        "id": "14E4pbz0T661"
      },
      "execution_count": null,
      "outputs": []
    },
    {
      "cell_type": "code",
      "source": [
        "# Index and encode categorical variables\n",
        "indexers = [StringIndexer(inputCol=col, outputCol=col + \"_Index\") for col in categorical_cols]\n",
        "encoders = [OneHotEncoder(inputCol=col + \"_Index\", outputCol=col + \"_Vec\") for col in categorical_cols]"
      ],
      "metadata": {
        "id": "B6AwwfMIUxLT"
      },
      "execution_count": null,
      "outputs": []
    },
    {
      "cell_type": "code",
      "source": [
        "# Assemble all features\n",
        "assembler_inputs = [col + \"_Vec\" for col in categorical_cols] + numeric_cols\n",
        "assembler = VectorAssembler(inputCols=assembler_inputs, outputCol=\"features\")"
      ],
      "metadata": {
        "id": "WN9yo8GLU7Ee"
      },
      "execution_count": null,
      "outputs": []
    },
    {
      "cell_type": "code",
      "source": [
        "from pyspark.ml import Pipeline\n",
        "from pyspark.ml.classification import LogisticRegression"
      ],
      "metadata": {
        "id": "WE97HZCPVC0U"
      },
      "execution_count": null,
      "outputs": []
    },
    {
      "cell_type": "code",
      "source": [
        "lr = LogisticRegression(featuresCol=\"features\", labelCol=\"Survived\")"
      ],
      "metadata": {
        "id": "akrTKCEgVbrL"
      },
      "execution_count": null,
      "outputs": []
    },
    {
      "cell_type": "code",
      "source": [
        "pipeline = Pipeline(stages=indexers + encoders + [assembler, lr])"
      ],
      "metadata": {
        "id": "Znu7DlwCWQvn"
      },
      "execution_count": null,
      "outputs": []
    },
    {
      "cell_type": "code",
      "source": [
        "# Train-Test Split\n",
        "train_data, test_data = df.randomSplit([0.8, 0.2], seed=42)"
      ],
      "metadata": {
        "id": "MsVbkS-ZWeKm"
      },
      "execution_count": null,
      "outputs": []
    },
    {
      "cell_type": "code",
      "source": [
        "# Fit model\n",
        "model = pipeline.fit(train_data)"
      ],
      "metadata": {
        "id": "6ArhqAExWk1e"
      },
      "execution_count": null,
      "outputs": []
    },
    {
      "cell_type": "code",
      "source": [
        "# Predict on test data\n",
        "predictions = model.transform(test_data)"
      ],
      "metadata": {
        "id": "XszlpoWsWorQ"
      },
      "execution_count": null,
      "outputs": []
    },
    {
      "cell_type": "code",
      "source": [
        "# Show predictions\n",
        "predictions.select(\"Survived\", \"prediction\", \"probability\").show(10)"
      ],
      "metadata": {
        "colab": {
          "base_uri": "https://localhost:8080/"
        },
        "id": "f5-YMlN3XIFP",
        "outputId": "54f08311-ec53-4a51-a739-7c2d219e43ff"
      },
      "execution_count": null,
      "outputs": [
        {
          "output_type": "stream",
          "name": "stdout",
          "text": [
            "+--------+----------+--------------------+\n",
            "|Survived|prediction|         probability|\n",
            "+--------+----------+--------------------+\n",
            "|       1|       1.0|[0.37065980714879...|\n",
            "|       0|       0.0|[0.55433639291226...|\n",
            "|       1|       1.0|[0.24355031793992...|\n",
            "|       0|       0.0|[0.99761802222560...|\n",
            "|       1|       1.0|[0.12272747916269...|\n",
            "|       1|       0.0|[0.65630062990053...|\n",
            "|       0|       0.0|[0.91665228219005...|\n",
            "|       0|       0.0|[0.65518288988353...|\n",
            "|       0|       0.0|[0.91665228219005...|\n",
            "|       0|       0.0|[0.96166813811554...|\n",
            "+--------+----------+--------------------+\n",
            "only showing top 10 rows\n",
            "\n"
          ]
        }
      ]
    },
    {
      "cell_type": "code",
      "source": [
        "# Evaluate\n",
        "from pyspark.ml.evaluation import BinaryClassificationEvaluator"
      ],
      "metadata": {
        "id": "K48v7TlRXSIK"
      },
      "execution_count": null,
      "outputs": []
    },
    {
      "cell_type": "code",
      "source": [
        "evaluator = BinaryClassificationEvaluator(labelCol=\"Survived\", metricName=\"areaUnderROC\")\n",
        "auc = evaluator.evaluate(predictions)\n",
        "print(f\"AUC on test data: {auc:.4f}\")"
      ],
      "metadata": {
        "colab": {
          "base_uri": "https://localhost:8080/"
        },
        "id": "kw8eFZ7jXaxS",
        "outputId": "1fda3968-7007-4af4-ac6b-c0c99d1017ea"
      },
      "execution_count": null,
      "outputs": [
        {
          "output_type": "stream",
          "name": "stdout",
          "text": [
            "AUC on test data: 0.9081\n"
          ]
        }
      ]
    }
  ]
}